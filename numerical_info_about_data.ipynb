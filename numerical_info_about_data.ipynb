{
 "cells": [
  {
   "cell_type": "code",
   "execution_count": null,
   "id": "d1080774",
   "metadata": {},
   "outputs": [
    {
     "name": "stdout",
     "output_type": "stream",
     "text": [
      "Total rows: 3386817\n",
      "Total files scanned: 72\n",
      "Percentage of reported by corresponding to Falls within 1.0\n",
      "How many % of crime IDs are missing 0.20922831082990312\n"
     ]
    }
   ],
   "source": [
    "import os\n",
    "import pandas as pd\n",
    "\n",
    "root_folder = 'C:/Users/20232075/Desktop/London Police Data'\n",
    "total_rows = 0\n",
    "total_2 = 0\n",
    "total_3 = 0\n",
    "total_4 = 0\n",
    "file_count = 0\n",
    "df_crimes = pd.DataFrame()\n",
    "\n",
    "for subdir, dirs, files in os.walk(root_folder):\n",
    "    for file in files:\n",
    "        file_count += 1\n",
    "        name_without_ext = file[:-4]\n",
    "        if name_without_ext.lower().endswith('-street'):\n",
    "            file_path = os.path.join(subdir, file)\n",
    "            df = pd.read_csv(file_path)\n",
    "            df_2 = df[df[\"Crime ID\"].isna()]\n",
    "            total_2 +=len(df_2)\n",
    "            total_rows += len(df)\n",
    "            df_crimes[\"Crime ID\"] = pd.concat([df_crimes, df[[\"Crime ID\"]]], ignore_index=True)\n",
    "\n",
    "\n",
    "print(f\"Total rows: {total_rows}\")\n",
    "print(f\"Total files scanned: {file_count}\")\n",
    "print(f\"How many % of crime IDs are missing {total_2/total_rows}\")\n"
   ]
  },
  {
   "cell_type": "code",
   "execution_count": 10,
   "id": "a721514c",
   "metadata": {},
   "outputs": [
    {
     "name": "stdout",
     "output_type": "stream",
     "text": [
      "Total rows: 8940567\n",
      "Total files scanned: 19328\n",
      "Percentage of reported by corresponding to Falls within 1.0\n",
      "How many crime ids from outcomes are present at street 0.0\n",
      "How many % of crime IDs are missing 0.0\n",
      "24\n",
      "{'Formal action is not in the public interest', 'Offender sent to prison', 'Offender otherwise dealt with', 'Offender given a drugs possession warning', 'Local resolution', 'Unable to prosecute suspect', 'Offender given penalty notice', 'Further action is not in the public interest', 'Suspect charged as part of another case', 'Offender given conditional discharge', 'Offender fined', 'Offender ordered to pay compensation', 'Further investigation is not in the public interest', 'Investigation complete; no suspect identified', 'Defendant sent to Crown Court', 'Suspect charged', 'Offender given suspended prison sentence', 'Offender given a caution', 'Offender given absolute discharge', 'Court case unable to proceed', 'Offender given community sentence', 'Defendant found not guilty', 'Offender deprived of property', 'Action to be taken by another organisation'}\n"
     ]
    }
   ],
   "source": [
    "import os\n",
    "import pandas as pd\n",
    "\n",
    "root_folder = 'C:/Users/20232075/Desktop/London Police Data'\n",
    "total_rows = 0\n",
    "file_count = 0\n",
    "total_rows = 0\n",
    "total_2 = 0\n",
    "total_3 = 0\n",
    "total_4 = 0\n",
    "file_count = 0\n",
    "unique_outcomes = set()\n",
    "\n",
    "for subdir, dirs, files in os.walk(root_folder):\n",
    "    for file in files:\n",
    "        file_count += 1\n",
    "        name_without_ext = file[:-4]\n",
    "        if name_without_ext.lower().endswith('-outcomes'):\n",
    "            file_path = os.path.join(subdir, file)\n",
    "            df = pd.read_csv(file_path)\n",
    "            df = df[[\"Reported by\"] == \"Metropolitan Police Service\" or df[\"Falls within\"] == \"Metropolitan Police Service\"]\n",
    "            df_2 = df[df[\"Crime ID\"].isna()]\n",
    "            df_3 = df[df[\"Crime ID\"].isin(df_crimes[\"Crime ID\"])]\n",
    "            df_4 = df[df[\"Reported by\"] == df[\"Falls within\"]]\n",
    "            unique_outcomes.update(df[\"Outcome type\"].dropna().unique())\n",
    "            total_2 +=len(df_2)\n",
    "            total_3 += len(df_3)\n",
    "            total_4 += len(df_4)\n",
    "            total_rows += len(df)\n",
    "\n",
    "\n",
    "\n",
    "print(f\"Total rows: {total_rows}\")\n",
    "print(f\"Total files scanned: {file_count}\")\n",
    "print(f\"Percentage of reported by corresponding to Falls within {total_4/total_rows}\")\n",
    "print(f\"How many crime ids from outcomes are present at street {total_3/total_rows}\")\n",
    "print(f\"How many % of crime IDs are missing {total_2/total_rows}\")\n",
    "print(len(unique_outcomes))\n",
    "print(unique_outcomes)"
   ]
  }
 ],
 "metadata": {
  "kernelspec": {
   "display_name": ".venv",
   "language": "python",
   "name": "python3"
  },
  "language_info": {
   "codemirror_mode": {
    "name": "ipython",
    "version": 3
   },
   "file_extension": ".py",
   "mimetype": "text/x-python",
   "name": "python",
   "nbconvert_exporter": "python",
   "pygments_lexer": "ipython3",
   "version": "3.10.11"
  }
 },
 "nbformat": 4,
 "nbformat_minor": 5
}
